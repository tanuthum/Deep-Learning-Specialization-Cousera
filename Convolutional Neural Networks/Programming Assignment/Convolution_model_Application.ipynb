{
 "cells": [
  {
   "cell_type": "markdown",
   "metadata": {},
   "source": [
    "# Convolutional Neural Networks: Application\n",
    "\n",
    "Welcome to Course 4's second assignment! In this notebook, you will:\n",
    "\n",
    "- Create a mood classifer using the TF Keras Sequential API\n",
    "- Build a ConvNet to identify sign language digits using the TF Keras Functional API\n",
    "\n",
    "**After this assignment you will be able to:**\n",
    "\n",
    "- Build and train a ConvNet in TensorFlow for a __binary__ classification problem\n",
    "- Build and train a ConvNet in TensorFlow for a __multiclass__ classification problem\n",
    "- Explain different use cases for the Sequential and Functional APIs\n",
    "\n",
    "To complete this assignment, you should already be familiar with TensorFlow. If you are not, please refer back to the **TensorFlow Tutorial** of the third week of Course 2 (\"**Improving deep neural networks**\").\n",
    "\n",
    "## Important Note on Submission to the AutoGrader\n",
    "\n",
    "Before submitting your assignment to the AutoGrader, please make sure you are not doing the following:\n",
    "\n",
    "1. You have not added any _extra_ `print` statement(s) in the assignment.\n",
    "2. You have not added any _extra_ code cell(s) in the assignment.\n",
    "3. You have not changed any of the function parameters.\n",
    "4. You are not using any global variables inside your graded exercises. Unless specifically instructed to do so, please refrain from it and use the local variables instead.\n",
    "5. You are not changing the assignment code where it is not required, like creating _extra_ variables.\n",
    "\n",
    "If you do any of the following, you will get something like, `Grader Error: Grader feedback not found` (or similarly unexpected) error upon submitting your assignment. Before asking for help/debugging the errors in your assignment, check for these first. If this is the case, and you don't remember the changes you have made, you can get a fresh copy of the assignment by following these [instructions](https://www.coursera.org/learn/convolutional-neural-networks/supplement/DS4yP/h-ow-to-refresh-your-workspace)."
   ]
  },
  {
   "cell_type": "markdown",
   "metadata": {},
   "source": [
    "## Table of Contents\n",
    "\n",
    "- [1 - Packages](#1)\n",
    "    - [1.1 - Load the Data and Split the Data into Train/Test Sets](#1-1)\n",
    "- [2 - Layers in TF Keras](#2)\n",
    "- [3 - The Sequential API](#3)\n",
    "    - [3.1 - Create the Sequential Model](#3-1)\n",
    "        - [Exercise 1 - happyModel](#ex-1)\n",
    "    - [3.2 - Train and Evaluate the Model](#3-2)\n",
    "- [4 - The Functional API](#4)\n",
    "    - [4.1 - Load the SIGNS Dataset](#4-1)\n",
    "    - [4.2 - Split the Data into Train/Test Sets](#4-2)\n",
    "    - [4.3 - Forward Propagation](#4-3)\n",
    "        - [Exercise 2 - convolutional_model](#ex-2)\n",
    "    - [4.4 - Train the Model](#4-4)\n",
    "- [5 - History Object](#5)\n",
    "- [6 - Bibliography](#6)"
   ]
  },
  {
   "cell_type": "markdown",
   "metadata": {},
   "source": [
    "<a name='1'></a>\n",
    "## 1 - Packages\n",
    "\n",
    "As usual, begin by loading in the packages."
   ]
  },
  {
   "cell_type": "code",
   "execution_count": 1,
   "metadata": {
    "deletable": false,
    "editable": false
   },
   "outputs": [],
   "source": [
    "### v1.1"
   ]
  },
  {
   "cell_type": "code",
   "execution_count": 2,
   "metadata": {},
   "outputs": [],
   "source": [
    "import math\n",
    "import numpy as np\n",
    "import h5py\n",
    "import matplotlib.pyplot as plt\n",
    "from matplotlib.pyplot import imread\n",
    "import scipy\n",
    "from PIL import Image\n",
    "import pandas as pd\n",
    "import tensorflow as tf\n",
    "import tensorflow.keras.layers as tfl\n",
    "from tensorflow.python.framework import ops\n",
    "from cnn_utils import *\n",
    "from test_utils import summary, comparator\n",
    "\n",
    "%matplotlib inline\n",
    "np.random.seed(1)"
   ]
  },
  {
   "cell_type": "markdown",
   "metadata": {},
   "source": [
    "<a name='1-1'></a>\n",
    "### 1.1 - Load the Data and Split the Data into Train/Test Sets\n",
    "\n",
    "You'll be using the Happy House dataset for this part of the assignment, which contains images of peoples' faces. Your task will be to build a ConvNet that determines whether the people in the images are smiling or not -- because they only get to enter the house if they're smiling!  "
   ]
  },
  {
   "cell_type": "code",
   "execution_count": 3,
   "metadata": {},
   "outputs": [
    {
     "name": "stdout",
     "output_type": "stream",
     "text": [
      "number of training examples = 600\n",
      "number of test examples = 150\n",
      "X_train shape: (600, 64, 64, 3)\n",
      "Y_train shape: (600, 1)\n",
      "X_test shape: (150, 64, 64, 3)\n",
      "Y_test shape: (150, 1)\n"
     ]
    }
   ],
   "source": [
    "X_train_orig, Y_train_orig, X_test_orig, Y_test_orig, classes = load_happy_dataset()\n",
    "\n",
    "# Normalize image vectors\n",
    "X_train = X_train_orig/255.\n",
    "X_test = X_test_orig/255.\n",
    "\n",
    "# Reshape\n",
    "Y_train = Y_train_orig.T\n",
    "Y_test = Y_test_orig.T\n",
    "\n",
    "print (\"number of training examples = \" + str(X_train.shape[0]))\n",
    "print (\"number of test examples = \" + str(X_test.shape[0]))\n",
    "print (\"X_train shape: \" + str(X_train.shape))\n",
    "print (\"Y_train shape: \" + str(Y_train.shape))\n",
    "print (\"X_test shape: \" + str(X_test.shape))\n",
    "print (\"Y_test shape: \" + str(Y_test.shape))"
   ]
  },
  {
   "cell_type": "markdown",
   "metadata": {},
   "source": [
    "You can display the images contained in the dataset. Images are **64x64** pixels in RGB format (3 channels)."
   ]
  },
  {
   "cell_type": "code",
   "execution_count": 4,
   "metadata": {},
   "outputs": [
    {
     "data": {
      "image/png": "[encoded data removed]",
      "text/plain": [
       "<Figure size 432x288 with 1 Axes>"
      ]
     },
     "metadata": {
      "needs_background": "light"
     },
     "output_type": "display_data"
    }
   ],
   "source": [
    "index = 124\n",
    "plt.imshow(X_train_orig[index]) #display sample training image\n",
    "plt.show()"
   ]
  },
  {
   "cell_type": "markdown",
   "metadata": {},
   "source": [
    "<a name='2'></a>\n",
    "## 2 - Layers in TF Keras \n",
    "\n",
    "In the previous assignment, you created layers manually in numpy. In TF Keras, you don't have to write code directly to create layers. Rather, TF Keras has pre-defined layers you can use. \n",
    "\n",
    "When you create a layer in TF Keras, you are creating a function that takes some input and transforms it into an output you can reuse later. Nice and easy! "
   ]
  },
  {
   "cell_type": "markdown",
   "metadata": {},
   "source": [
    "<a name='3'></a>\n",
    "## 3 - The Sequential API\n",
    "\n",
    "In the previous assignment, you built helper functions using `numpy` to understand the mechanics behind convolutional neural networks. Most practical applications of deep learning today are built using programming frameworks, which have many built-in functions you can simply call. Keras is a high-level abstraction built on top of TensorFlow, which allows for even more simplified and optimized model creation and training. \n",
    "\n",
    "For the first part of this assignment, you'll create a model using TF Keras' Sequential API, which allows you to build layer by layer, and is ideal for building models where each layer has **exactly one** input tensor and **one** output tensor. \n",
    "\n",
    "As you'll see, using the Sequential API is simple and straightforward, but is only appropriate for simpler, more straightforward tasks. Later in this notebook you'll spend some time building with a more flexible, powerful alternative: the Functional API. \n",
    " "
   ]
  },
  {
   "cell_type": "markdown",
   "metadata": {},
   "source": [
    "<a name='3-1'></a>\n",
    "### 3.1 - Create the Sequential Model\n",
    "\n",
    "As mentioned earlier, the TensorFlow Keras Sequential API can be used to build simple models with layer operations that proceed in a sequential order. \n",
    "\n",
    "You can also add layers incrementally to a Sequential model with the `.add()` method, or remove them using the `.pop()` method, much like you would in a regular Python list.\n",
    "\n",
    "Actually, you can think of a Sequential model as behaving like a list of layers. Like Python lists, Sequential layers are ordered, and the order in which they are specified matters.  If your model is non-linear or contains layers with multiple inputs or outputs, a Sequential model wouldn't be the right choice!\n",
    "\n",
    "For any layer construction in Keras, you'll need to specify the input shape in advance. This is because in Keras, the shape of the weights is based on the shape of the inputs. The weights are only created when the model first sees some input data. Sequential models can be created by passing a list of layers to the Sequential constructor, like you will do in the next assignment.\n",
    "\n",
    "<a name='ex-1'></a>\n",
    "### Exercise 1 - happyModel\n",
    "\n",
    "Implement the `happyModel` function below to build the following model: `ZEROPAD2D -> CONV2D -> BATCHNORM -> RELU -> MAXPOOL -> FLATTEN -> DENSE`. Take help from [tf.keras.layers](https://www.tensorflow.org/api_docs/python/tf/keras/layers) \n",
    "\n",
    "Also, plug in the following parameters for all the steps:\n",
    "\n",
    " - [ZeroPadding2D](https://www.tensorflow.org/api_docs/python/tf/keras/layers/ZeroPadding2D): padding 3, input shape 64 x 64 x 3\n",
    " - [Conv2D](https://www.tensorflow.org/api_docs/python/tf/keras/layers/Conv2D): Use 32 7x7 filters, stride 1\n",
    " - [BatchNormalization](https://www.tensorflow.org/api_docs/python/tf/keras/layers/BatchNormalization): for axis 3\n",
    " - [ReLU](https://www.tensorflow.org/api_docs/python/tf/keras/layers/ReLU)\n",
    " - [MaxPool2D](https://www.tensorflow.org/api_docs/python/tf/keras/layers/MaxPool2D): Using default parameters\n",
    " - [Flatten](https://www.tensorflow.org/api_docs/python/tf/keras/layers/Flatten) the previous output.\n",
    " - Fully-connected ([Dense](https://www.tensorflow.org/api_docs/python/tf/keras/layers/Dense)) layer: Apply a fully connected layer with 1 neuron and a sigmoid activation. \n",
    " \n",
    " \n",
    " **Hint:**\n",
    " \n",
    " Use **tfl** as shorthand for **tensorflow.keras.layers**"
   ]
  },
  {
   "cell_type": "code",
   "execution_count": 5,
   "metadata": {
    "deletable": false,
    "nbgrader": {
     "cell_type": "code",
     "checksum": "95d28b191f257bdd5b70c7b8952559d5",
     "grade": false,
     "grade_id": "cell-0e56d3fc28b69aec",
     "locked": false,
     "schema_version": 3,
     "solution": true,
     "task": false
    }
   },
   "outputs": [],
   "source": [
    "# GRADED FUNCTION: happyModel\n",
    "\n",
    "def happyModel():\n",
    "    \"\"\"\n",
    "    Implements the forward propagation for the binary classification model:\n",
    "    ZEROPAD2D -> CONV2D -> BATCHNORM -> RELU -> MAXPOOL -> FLATTEN -> DENSE\n",
    "    \n",
    "    Note that for simplicity and grading purposes, you'll hard-code all the values\n",
    "    such as the stride and kernel (filter) sizes. \n",
    "    Normally, functions should take these values as function parameters.\n",
    "    \n",
    "    Arguments:\n",
    "    None\n",
    "\n",
    "    Returns:\n",
    "    model -- TF Keras model (object containing the information for the entire training process) \n",
    "    \"\"\"\n",
    "    model = tf.keras.Sequential([\n",
    "            ## ZeroPadding2D with padding 3, input shape of 64 x 64 x 3\n",
    "            tfl.ZeroPadding2D(padding=(3, 3),input_shape=(64,64,3)),\n",
    "            ## Conv2D with 32 7x7 filters and stride of 1\n",
    "            tfl.Conv2D(filters=32, kernel_size=7, strides=(1,1), input_shape=[64, 64, 3]),\n",
    "            ## BatchNormalization for axis 3\n",
    "            tfl.BatchNormalization(axis=3),\n",
    "            ## ReLU\n",
    "            tfl.ReLU(max_value=None, negative_slope=0.0, threshold=0.0),\n",
    "            ## Max Pooling 2D with default parameters\n",
    "            tfl.MaxPool2D(pool_size=(2, 2), strides=None, padding='valid', data_format=None),\n",
    "            ## Flatten layer\n",
    "            tfl.Flatten(),\n",
    "            ## Dense layer with 1 unit for output & 'sigmoid' activation\n",
    "            tfl.Dense(1,activation=\"sigmoid\")\n",
    "            # YOUR CODE STARTS HERE\n",
    "            \n",
    "            \n",
    "            # YOUR CODE ENDS HERE\n",
    "        ])\n",
    "    \n",
    "    return model"
   ]
  },
  {
   "cell_type": "code",
   "execution_count": 6,
   "metadata": {
    "deletable": false,
    "editable": false,
    "nbgrader": {
     "cell_type": "code",
     "checksum": "8d3575c950e2e78149be2d05d671c80d",
     "grade": true,
     "grade_id": "cell-e3e1046e5c33d775",
     "locked": true,
     "points": 10,
     "schema_version": 3,
     "solution": false,
     "task": false
    }
   },
   "outputs": [
    {
     "name": "stdout",
     "output_type": "stream",
     "text": [
      "['ZeroPadding2D', (None, 70, 70, 3), 0, ((3, 3), (3, 3))]\n",
      "['Conv2D', (None, 64, 64, 32), 4736, 'valid', 'linear', 'GlorotUniform']\n",
      "['BatchNormalization', (None, 64, 64, 32), 128]\n",
      "['ReLU', (None, 64, 64, 32), 0]\n",
      "['MaxPooling2D', (None, 32, 32, 32), 0, (2, 2), (2, 2), 'valid']\n",
      "['Flatten', (None, 32768), 0]\n",
      "['Dense', (None, 1), 32769, 'sigmoid']\n",
      "\u001b[32mAll tests passed!\u001b[0m\n"
     ]
    }
   ],
   "source": [
    "happy_model = happyModel()\n",
    "# Print a summary for each layer\n",
    "for layer in summary(happy_model):\n",
    "    print(layer)\n",
    "    \n",
    "output = [['ZeroPadding2D', (None, 70, 70, 3), 0, ((3, 3), (3, 3))],\n",
    "            ['Conv2D', (None, 64, 64, 32), 4736, 'valid', 'linear', 'GlorotUniform'],\n",
    "            ['BatchNormalization', (None, 64, 64, 32), 128],\n",
    "            ['ReLU', (None, 64, 64, 32), 0],\n",
    "            ['MaxPooling2D', (None, 32, 32, 32), 0, (2, 2), (2, 2), 'valid'],\n",
    "            ['Flatten', (None, 32768), 0],\n",
    "            ['Dense', (None, 1), 32769, 'sigmoid']]\n",
    "    \n",
    "comparator(summary(happy_model), output)"
   ]
  },
  {
   "cell_type": "markdown",
   "metadata": {},
   "source": [
    "#### Expected Output:\n",
    "\n",
    "```\n",
    "['ZeroPadding2D', (None, 70, 70, 3), 0, ((3, 3), (3, 3))]\n",
    "['Conv2D', (None, 64, 64, 32), 4736, 'valid', 'linear', 'GlorotUniform']\n",
    "['BatchNormalization', (None, 64, 64, 32), 128]\n",
    "['ReLU', (None, 64, 64, 32), 0]\n",
    "['MaxPooling2D', (None, 32, 32, 32), 0, (2, 2), (2, 2), 'valid']\n",
    "['Flatten', (None, 32768), 0]\n",
    "['Dense', (None, 1), 32769, 'sigmoid']\n",
    "All tests passed!\n",
    "```"
   ]
  },
  {
   "cell_type": "markdown",
   "metadata": {},
   "source": [
    "Now that your model is created, you can compile it for training with an optimizer and loss of your choice. When the string `accuracy` is specified as a metric, the type of accuracy used will be automatically converted based on the loss function used. This is one of the many optimizations built into TensorFlow that make your life easier! If you'd like to read more on how the compiler operates, check the docs [here](https://www.tensorflow.org/api_docs/python/tf/keras/Model#compile)."
   ]
  },
  {
   "cell_type": "code",
   "execution_count": 7,
   "metadata": {},
   "outputs": [],
   "source": [
    "happy_model.compile(optimizer='adam',\n",
    "                   loss='binary_crossentropy',\n",
    "                   metrics=['accuracy'])"
   ]
  },
  {
   "cell_type": "markdown",
   "metadata": {},
   "source": [
    "It's time to check your model's parameters with the `.summary()` method. This will display the types of layers you have, the shape of the outputs, and how many parameters are in each layer. "
   ]
  },
  {
   "cell_type": "code",
   "execution_count": 8,
   "metadata": {},
   "outputs": [
    {
     "name": "stdout",
     "output_type": "stream",
     "text": [
      "Model: \"sequential\"\n",
      "_________________________________________________________________\n",
      "Layer (type)                 Output Shape              Param #   \n",
      "=================================================================\n",
      "zero_padding2d (ZeroPadding2 (None, 70, 70, 3)         0         \n",
      "_________________________________________________________________\n",
      "conv2d (Conv2D)              (None, 64, 64, 32)        4736      \n",
      "_________________________________________________________________\n",
      "batch_normalization (BatchNo (None, 64, 64, 32)        128       \n",
      "_________________________________________________________________\n",
      "re_lu (ReLU)                 (None, 64, 64, 32)        0         \n",
      "_________________________________________________________________\n",
      "max_pooling2d (MaxPooling2D) (None, 32, 32, 32)        0         \n",
      "_________________________________________________________________\n",
      "flatten (Flatten)            (None, 32768)             0         \n",
      "_________________________________________________________________\n",
      "dense (Dense)                (None, 1)                 32769     \n",
      "=================================================================\n",
      "Total params: 37,633\n",
      "Trainable params: 37,569\n",
      "Non-trainable params: 64\n",
      "_________________________________________________________________\n"
     ]
    }
   ],
   "source": [
    "happy_model.summary()"
   ]
  },
  {
   "cell_type": "markdown",
   "metadata": {},
   "source": [
    "<a name='3-2'></a>\n",
    "### 3.2 - Train and Evaluate the Model\n",
    "\n",
    "After creating the model, compiling it with your choice of optimizer and loss function, and doing a sanity check on its contents, you are now ready to build! \n",
    "\n",
    "Simply call `.fit()` to train. That's it! No need for mini-batching, saving, or complex backpropagation computations. That's all been done for you, as you're using a TensorFlow dataset with the batches specified already. You do have the option to specify epoch number or minibatch size if you like (for example, in the case of an un-batched dataset)."
   ]
  },
  {
   "cell_type": "code",
   "execution_count": 9,
   "metadata": {},
   "outputs": [
    {
     "name": "stdout",
     "output_type": "stream",
     "text": [
      "Epoch 1/10\n",
      "38/38 [==============================] - 4s 97ms/step - loss: 1.0001 - accuracy: 0.7383\n",
      "Epoch 2/10\n",
      "38/38 [==============================] - 4s 92ms/step - loss: 0.1577 - accuracy: 0.9433\n",
      "Epoch 3/10\n",
      "38/38 [==============================] - 3s 92ms/step - loss: 0.2035 - accuracy: 0.9150\n",
      "Epoch 4/10\n",
      "38/38 [==============================] - 4s 92ms/step - loss: 0.1954 - accuracy: 0.9367\n",
      "Epoch 5/10\n",
      "38/38 [==============================] - 4s 92ms/step - loss: 0.1392 - accuracy: 0.9467\n",
      "Epoch 6/10\n",
      "38/38 [==============================] - 4s 97ms/step - loss: 0.1872 - accuracy: 0.9417\n",
      "Epoch 7/10\n",
      "38/38 [==============================] - 4s 95ms/step - loss: 0.0979 - accuracy: 0.9650\n",
      "Epoch 8/10\n",
      "38/38 [==============================] - 4s 95ms/step - loss: 0.0910 - accuracy: 0.9717\n",
      "Epoch 9/10\n",
      "38/38 [==============================] - 4s 94ms/step - loss: 0.0604 - accuracy: 0.9800\n",
      "Epoch 10/10\n",
      "38/38 [==============================] - 4s 92ms/step - loss: 0.1046 - accuracy: 0.9600\n"
     ]
    },
    {
     "data": {
      "text/plain": [
       "<tensorflow.python.keras.callbacks.History at 0x7f12bce44850>"
      ]
     },
     "execution_count": 9,
     "metadata": {},
     "output_type": "execute_result"
    }
   ],
   "source": [
    "happy_model.fit(X_train, Y_train, epochs=10, batch_size=16)"
   ]
  },
  {
   "cell_type": "markdown",
   "metadata": {},
   "source": [
    "After that completes, just use `.evaluate()` to evaluate against your test set. This function will print the value of the loss function and the performance metrics specified during the compilation of the model. In this case, the `binary_crossentropy` and the `accuracy` respectively."
   ]
  },
  {
   "cell_type": "code",
   "execution_count": 10,
   "metadata": {},
   "outputs": [
    {
     "name": "stdout",
     "output_type": "stream",
     "text": [
      "5/5 [==============================] - 0s 25ms/step - loss: 0.1803 - accuracy: 0.9200\n"
     ]
    },
    {
     "data": {
      "text/plain": [
       "[0.18027982115745544, 0.9200000166893005]"
      ]
     },
     "execution_count": 10,
     "metadata": {},
     "output_type": "execute_result"
    }
   ],
   "source": [
    "happy_model.evaluate(X_test, Y_test)"
   ]
  },
  {
   "cell_type": "markdown",
   "metadata": {},
   "source": [
    "Easy, right? But what if you need to build a model with shared layers, branches, or multiple inputs and outputs? This is where Sequential, with its beautifully simple yet limited functionality, won't be able to help you. \n",
    "\n",
    "Next up: Enter the Functional API, your slightly more complex, highly flexible friend.  "
   ]
  },
  {
   "cell_type": "markdown",
   "metadata": {},
   "source": [
    "<a name='4'></a>\n",
    "## 4 - The Functional API"
   ]
  },
  {
   "cell_type": "markdown",
   "metadata": {},
   "source": [
    "Welcome to the second half of the assignment, where you'll use Keras' flexible [Functional API](https://www.tensorflow.org/guide/keras/functional) to build a ConvNet that can differentiate between 6 sign language digits. \n",
    "\n",
    "The Functional API can handle models with non-linear topology, shared layers, as well as layers with multiple inputs or outputs. Imagine that, where the Sequential API requires the model to move in a linear fashion through its layers, the Functional API allows much more flexibility. Where Sequential is a straight line, a Functional model is a graph, where the nodes of the layers can connect in many more ways than one. \n",
    "\n",
    "In the visual example below, the one possible direction of the movement Sequential model is shown in contrast to a skip connection, which is just one of the many ways a Functional model can be constructed. A skip connection, as you might have guessed, skips some layer in the network and feeds the output to a later layer in the network. Don't worry, you'll be spending more time with skip connections very soon! "
   ]
  },
  {
   "cell_type": "markdown",
   "metadata": {},
   "source": [
    "<img src=\"images/seq_vs_func.png\" style=\"width:350px;height:200px;\">"
   ]
  },
  {
   "cell_type": "markdown",
   "metadata": {},
   "source": [
    "<a name='4-1'></a>\n",
    "### 4.1 - Load the SIGNS Dataset\n",
    "\n",
    "As a reminder, the SIGNS dataset is a collection of 6 signs representing numbers from 0 to 5."
   ]
  },
  {
   "cell_type": "code",
   "execution_count": 11,
   "metadata": {},
   "outputs": [],
   "source": [
    "# Loading the data (signs)\n",
    "X_train_orig, Y_train_orig, X_test_orig, Y_test_orig, classes = load_signs_dataset()"
   ]
  },
  {
   "cell_type": "markdown",
   "metadata": {},
   "source": [
    "<img src=\"images/SIGNS.png\" style=\"width:800px;height:300px;\">\n",
    "\n",
    "The next cell will show you an example of a labelled image in the dataset. Feel free to change the value of `index` below and re-run to see different examples. "
   ]
  },
  {
   "cell_type": "code",
   "execution_count": 12,
   "metadata": {},
   "outputs": [
    {
     "name": "stdout",
     "output_type": "stream",
     "text": [
      "y = 4\n"
     ]
    },
    {
     "data": {
      "image/png": "[encoded data removed]",
      "text/plain": [
       "<Figure size 432x288 with 1 Axes>"
      ]
     },
     "metadata": {
      "needs_background": "light"
     },
     "output_type": "display_data"
    }
   ],
   "source": [
    "# Example of an image from the dataset\n",
    "index = 9\n",
    "plt.imshow(X_train_orig[index])\n",
    "print (\"y = \" + str(np.squeeze(Y_train_orig[:, index])))"
   ]
  },
  {
   "cell_type": "markdown",
   "metadata": {},
   "source": [
    "<a name='4-2'></a>\n",
    "### 4.2 - Split the Data into Train/Test Sets\n",
    "\n",
    "In Course 2, you built a fully-connected network for this dataset. But since this is an image dataset, it is more natural to apply a ConvNet to it.\n",
    "\n",
    "To get started, let's examine the shapes of your data. "
   ]
  },
  {
   "cell_type": "code",
   "execution_count": 13,
   "metadata": {},
   "outputs": [
    {
     "name": "stdout",
     "output_type": "stream",
     "text": [
      "number of training examples = 1080\n",
      "number of test examples = 120\n",
      "X_train shape: (1080, 64, 64, 3)\n",
      "Y_train shape: (1080, 6)\n",
      "X_test shape: (120, 64, 64, 3)\n",
      "Y_test shape: (120, 6)\n"
     ]
    }
   ],
   "source": [
    "X_train = X_train_orig/255.\n",
    "X_test = X_test_orig/255.\n",
    "Y_train = convert_to_one_hot(Y_train_orig, 6).T\n",
    "Y_test = convert_to_one_hot(Y_test_orig, 6).T\n",
    "print (\"number of training examples = \" + str(X_train.shape[0]))\n",
    "print (\"number of test examples = \" + str(X_test.shape[0]))\n",
    "print (\"X_train shape: \" + str(X_train.shape))\n",
    "print (\"Y_train shape: \" + str(Y_train.shape))\n",
    "print (\"X_test shape: \" + str(X_test.shape))\n",
    "print (\"Y_test shape: \" + str(Y_test.shape))"
   ]
  },
  {
   "cell_type": "markdown",
   "metadata": {},
   "source": [
    "<a name='4-3'></a>\n",
    "### 4.3 - Forward Propagation\n",
    "\n",
    "In TensorFlow, there are built-in functions that implement the convolution steps for you. By now, you should be familiar with how TensorFlow builds computational graphs. In the [Functional API](https://www.tensorflow.org/guide/keras/functional), you create a graph of layers. This is what allows such great flexibility.\n",
    "\n",
    "However, the following model could also be defined using the Sequential API since the information flow is on a single line. But don't deviate. What we want you to learn is to use the functional API.\n",
    "\n",
    "Begin building your graph of layers by creating an input node that functions as a callable object:\n",
    "\n",
    "- **input_img = tf.keras.Input(shape=input_shape):** \n",
    "\n",
    "Then, create a new node in the graph of layers by calling a layer on the `input_img` object: \n",
    "\n",
    "- **tf.keras.layers.Conv2D(filters= ... , kernel_size= ... , padding='same')(input_img):** Read the full documentation on [Conv2D](https://www.tensorflow.org/api_docs/python/tf/keras/layers/Conv2D).\n",
    "\n",
    "- **tf.keras.layers.MaxPool2D(pool_size=(f, f), strides=(s, s), padding='same'):** `MaxPool2D()` downsamples your input using a window of size (f, f) and strides of size (s, s) to carry out max pooling over each window.  For max pooling, you usually operate on a single example at a time and a single channel at a time. Read the full documentation on [MaxPool2D](https://www.tensorflow.org/api_docs/python/tf/keras/layers/MaxPool2D).\n",
    "\n",
    "- **tf.keras.layers.ReLU():** computes the elementwise ReLU of Z (which can be any shape). You can read the full documentation on [ReLU](https://www.tensorflow.org/api_docs/python/tf/keras/layers/ReLU).\n",
    "\n",
    "- **tf.keras.layers.Flatten()**: given a tensor \"P\", this function takes each training (or test) example in the batch and flattens it into a 1D vector.  \n",
    "\n",
    "    * If a tensor P has the shape (batch_size,h,w,c), it returns a flattened tensor with shape (batch_size, k), where $k=h \\times w \\times c$.  \"k\" equals the product of all the dimension sizes other than the first dimension.\n",
    "    \n",
    "    * For example, given a tensor with dimensions [100, 2, 3, 4], it flattens the tensor to be of shape [100, 24], where 24 = 2 * 3 * 4.  You can read the full documentation on [Flatten](https://www.tensorflow.org/api_docs/python/tf/keras/layers/Flatten).\n",
    "\n",
    "- **tf.keras.layers.Dense(units= ... , activation='softmax')(F):** given the flattened input F, it returns the output computed using a fully connected layer. You can read the full documentation on [Dense](https://www.tensorflow.org/api_docs/python/tf/keras/layers/Dense).\n",
    "\n",
    "In the last function above (`tf.keras.layers.Dense()`), the fully connected layer automatically initializes weights in the graph and keeps on training them as you train the model. Hence, you did not need to initialize those weights when initializing the parameters.\n",
    "\n",
    "Lastly, before creating the model, you'll need to define the output using the last of the function's compositions (in this example, a Dense layer): \n",
    "\n",
    "- **outputs = tf.keras.layers.Dense(units=6, activation='softmax')(F)**\n",
    "\n",
    "\n",
    "#### Window, kernel, filter, pool\n",
    "\n",
    "The words \"kernel\" and \"filter\" are used to refer to the same thing. The word \"filter\" accounts for the amount of \"kernels\" that will be used in a single convolution layer. \"Pool\" is the name of the operation that takes the max or average value of the kernels. \n",
    "\n",
    "This is why the parameter `pool_size` refers to `kernel_size`, and you use `(f,f)` to refer to the filter size. \n",
    "\n",
    "Pool size and kernel size refer to the same thing in different objects - They refer to the shape of the window where the operation takes place. "
   ]
  },
  {
   "cell_type": "markdown",
   "metadata": {},
   "source": [
    "<a name='ex-2'></a>\n",
    "### Exercise 2 - convolutional_model\n",
    "\n",
    "Implement the `convolutional_model` function below to build the following model: `CONV2D -> RELU -> MAXPOOL -> CONV2D -> RELU -> MAXPOOL -> FLATTEN -> DENSE`. Use the functions above! \n",
    "\n",
    "Also, plug in the following parameters for all the steps:\n",
    "\n",
    " - [Conv2D](https://www.tensorflow.org/api_docs/python/tf/keras/layers/Conv2D): Use 8 4 by 4 filters, stride 1, padding is \"SAME\"\n",
    " - [ReLU](https://www.tensorflow.org/api_docs/python/tf/keras/layers/ReLU)\n",
    " - [MaxPool2D](https://www.tensorflow.org/api_docs/python/tf/keras/layers/MaxPool2D): Use an 8 by 8 filter size and an 8 by 8 stride, padding is \"SAME\"\n",
    " - **Conv2D**: Use 16 2 by 2 filters, stride 1, padding is \"SAME\"\n",
    " - **ReLU**\n",
    " - **MaxPool2D**: Use a 4 by 4 filter size and a 4 by 4 stride, padding is \"SAME\"\n",
    " - [Flatten](https://www.tensorflow.org/api_docs/python/tf/keras/layers/Flatten) the previous output.\n",
    " - Fully-connected ([Dense](https://www.tensorflow.org/api_docs/python/tf/keras/layers/Dense)) layer: Apply a fully connected layer with 6 neurons and a softmax activation. "
   ]
  },
  {
   "cell_type": "code",
   "execution_count": 14,
   "metadata": {
    "deletable": false,
    "nbgrader": {
     "cell_type": "code",
     "checksum": "f58643806aa8380c96225fc8b4c5e7aa",
     "grade": false,
     "grade_id": "cell-dac51744a9e03f51",
     "locked": false,
     "schema_version": 3,
     "solution": true,
     "task": false
    }
   },
   "outputs": [],
   "source": [
    "# GRADED FUNCTION: convolutional_model\n",
    "\n",
    "def convolutional_model(input_shape):\n",
    "    \"\"\"\n",
    "    Implements the forward propagation for the model:\n",
    "    CONV2D -> RELU -> MAXPOOL -> CONV2D -> RELU -> MAXPOOL -> FLATTEN -> DENSE\n",
    "    \n",
    "    Note that for simplicity and grading purposes, you'll hard-code some values\n",
    "    such as the stride and kernel (filter) sizes. \n",
    "    Normally, functions should take these values as function parameters.\n",
    "    \n",
    "    Arguments:\n",
    "    input_img -- input dataset, of shape (input_shape)\n",
    "\n",
    "    Returns:\n",
    "    model -- TF Keras model (object containing the information for the entire training process) \n",
    "    \"\"\"\n",
    "\n",
    "    input_img = tf.keras.Input(shape=input_shape)\n",
    "    ## CONV2D: 8 filters 4x4, stride of 1, padding 'SAME'\n",
    "    Z1 = tf.keras.layers.Conv2D(filters=8, kernel_size=4, padding=\"same\")(input_img)\n",
    "    ## RELU\n",
    "    A1 = tf.keras.layers.ReLU(max_value=None, negative_slope=0.0, threshold=0.0)(Z1)\n",
    "    ## MAXPOOL: window 8x8, stride 8, padding 'SAME'\n",
    "    P1 = tf.keras.layers.MaxPool2D(pool_size=(8,8), strides=(8,8), padding='same')(A1)\n",
    "    ## CONV2D: 16 filters 2x2, stride 1, padding 'SAME'\n",
    "    Z2 = tf.keras.layers.Conv2D(filters=16, kernel_size=2,strides=(1,1), padding=\"same\")(P1)\n",
    "    ## RELU\n",
    "    A2 = tf.keras.layers.ReLU(max_value=None, negative_slope=0.0, threshold=0.0)(Z2)\n",
    "    ## MAXPOOL: window 4x4, stride 4, padding 'SAME'\n",
    "    P2 = tf.keras.layers.MaxPool2D(pool_size=(4,4), strides=(4,4), padding='same')(A2)\n",
    "    ## FLATTEN\n",
    "    F = tf.keras.layers.Flatten()(P2)\n",
    "    ## Dense layer\n",
    "    ## 6 neurons in output layer. Hint: one of the arguments should be \"activation='softmax'\" \n",
    "    outputs = tf.keras.layers.Dense(6,activation=\"softmax\")(F)\n",
    "    \n",
    "    \n",
    "    # YOUR CODE ENDS HERE\n",
    "    model = tf.keras.Model(inputs=input_img, outputs=outputs)\n",
    "    return model"
   ]
  },
  {
   "cell_type": "code",
   "execution_count": 15,
   "metadata": {
    "deletable": false,
    "editable": false,
    "nbgrader": {
     "cell_type": "code",
     "checksum": "483d626949930a0b0ef20997e7c6ba72",
     "grade": true,
     "grade_id": "cell-45d22e92042174c9",
     "locked": true,
     "points": 10,
     "schema_version": 3,
     "solution": false,
     "task": false
    }
   },
   "outputs": [
    {
     "name": "stdout",
     "output_type": "stream",
     "text": [
      "Model: \"functional_1\"\n",
      "_________________________________________________________________\n",
      "Layer (type)                 Output Shape              Param #   \n",
      "=================================================================\n",
      "input_1 (InputLayer)         [(None, 64, 64, 3)]       0         \n",
      "_________________________________________________________________\n",
      "conv2d_1 (Conv2D)            (None, 64, 64, 8)         392       \n",
      "_________________________________________________________________\n",
      "re_lu_1 (ReLU)               (None, 64, 64, 8)         0         \n",
      "_________________________________________________________________\n",
      "max_pooling2d_1 (MaxPooling2 (None, 8, 8, 8)           0         \n",
      "_________________________________________________________________\n",
      "conv2d_2 (Conv2D)            (None, 8, 8, 16)          528       \n",
      "_________________________________________________________________\n",
      "re_lu_2 (ReLU)               (None, 8, 8, 16)          0         \n",
      "_________________________________________________________________\n",
      "max_pooling2d_2 (MaxPooling2 (None, 2, 2, 16)          0         \n",
      "_________________________________________________________________\n",
      "flatten_1 (Flatten)          (None, 64)                0         \n",
      "_________________________________________________________________\n",
      "dense_1 (Dense)              (None, 6)                 390       \n",
      "=================================================================\n",
      "Total params: 1,310\n",
      "Trainable params: 1,310\n",
      "Non-trainable params: 0\n",
      "_________________________________________________________________\n",
      "\u001b[32mAll tests passed!\u001b[0m\n"
     ]
    }
   ],
   "source": [
    "conv_model = convolutional_model((64, 64, 3))\n",
    "conv_model.compile(optimizer='adam',\n",
    "                  loss='categorical_crossentropy',\n",
    "                  metrics=['accuracy'])\n",
    "conv_model.summary()\n",
    "    \n",
    "output = [['InputLayer', [(None, 64, 64, 3)], 0],\n",
    "        ['Conv2D', (None, 64, 64, 8), 392, 'same', 'linear', 'GlorotUniform'],\n",
    "        ['ReLU', (None, 64, 64, 8), 0],\n",
    "        ['MaxPooling2D', (None, 8, 8, 8), 0, (8, 8), (8, 8), 'same'],\n",
    "        ['Conv2D', (None, 8, 8, 16), 528, 'same', 'linear', 'GlorotUniform'],\n",
    "        ['ReLU', (None, 8, 8, 16), 0],\n",
    "        ['MaxPooling2D', (None, 2, 2, 16), 0, (4, 4), (4, 4), 'same'],\n",
    "        ['Flatten', (None, 64), 0],\n",
    "        ['Dense', (None, 6), 390, 'softmax']]\n",
    "    \n",
    "comparator(summary(conv_model), output)"
   ]
  },
  {
   "cell_type": "markdown",
   "metadata": {},
   "source": [
    "Both the Sequential and Functional APIs return a TF Keras model object. The only difference is how inputs are handled inside the object model! "
   ]
  },
  {
   "cell_type": "markdown",
   "metadata": {},
   "source": [
    "<a name='4-4'></a>\n",
    "### 4.4 - Train the Model"
   ]
  },
  {
   "cell_type": "code",
   "execution_count": 16,
   "metadata": {},
   "outputs": [
    {
     "name": "stdout",
     "output_type": "stream",
     "text": [
      "Epoch 1/100\n",
      "17/17 [==============================] - 2s 113ms/step - loss: 1.8357 - accuracy: 0.1583 - val_loss: 1.7948 - val_accuracy: 0.1667\n",
      "Epoch 2/100\n",
      "17/17 [==============================] - 2s 108ms/step - loss: 1.7897 - accuracy: 0.1685 - val_loss: 1.7861 - val_accuracy: 0.2000\n",
      "Epoch 3/100\n",
      "17/17 [==============================] - 2s 100ms/step - loss: 1.7840 - accuracy: 0.1991 - val_loss: 1.7818 - val_accuracy: 0.1917\n",
      "Epoch 4/100\n",
      "17/17 [==============================] - 2s 100ms/step - loss: 1.7792 - accuracy: 0.2296 - val_loss: 1.7766 - val_accuracy: 0.2500\n",
      "Epoch 5/100\n",
      "17/17 [==============================] - 2s 100ms/step - loss: 1.7741 - accuracy: 0.2630 - val_loss: 1.7707 - val_accuracy: 0.3417\n",
      "Epoch 6/100\n",
      "17/17 [==============================] - 2s 101ms/step - loss: 1.7673 - accuracy: 0.2981 - val_loss: 1.7643 - val_accuracy: 0.3583\n",
      "Epoch 7/100\n",
      "17/17 [==============================] - 2s 105ms/step - loss: 1.7586 - accuracy: 0.3139 - val_loss: 1.7566 - val_accuracy: 0.3583\n",
      "Epoch 8/100\n",
      "17/17 [==============================] - 2s 100ms/step - loss: 1.7499 - accuracy: 0.3417 - val_loss: 1.7470 - val_accuracy: 0.4000\n",
      "Epoch 9/100\n",
      "17/17 [==============================] - 2s 106ms/step - loss: 1.7370 - accuracy: 0.3880 - val_loss: 1.7365 - val_accuracy: 0.4333\n",
      "Epoch 10/100\n",
      "17/17 [==============================] - 2s 101ms/step - loss: 1.7224 - accuracy: 0.4028 - val_loss: 1.7216 - val_accuracy: 0.4583\n",
      "Epoch 11/100\n",
      "17/17 [==============================] - 2s 101ms/step - loss: 1.7042 - accuracy: 0.4213 - val_loss: 1.7051 - val_accuracy: 0.4417\n",
      "Epoch 12/100\n",
      "17/17 [==============================] - 2s 106ms/step - loss: 1.6829 - accuracy: 0.4315 - val_loss: 1.6848 - val_accuracy: 0.4333\n",
      "Epoch 13/100\n",
      "17/17 [==============================] - 2s 106ms/step - loss: 1.6577 - accuracy: 0.4407 - val_loss: 1.6612 - val_accuracy: 0.4250\n",
      "Epoch 14/100\n",
      "17/17 [==============================] - 2s 106ms/step - loss: 1.6283 - accuracy: 0.4537 - val_loss: 1.6340 - val_accuracy: 0.4583\n",
      "Epoch 15/100\n",
      "17/17 [==============================] - 2s 107ms/step - loss: 1.5964 - accuracy: 0.4472 - val_loss: 1.6017 - val_accuracy: 0.4500\n",
      "Epoch 16/100\n",
      "17/17 [==============================] - 2s 106ms/step - loss: 1.5535 - accuracy: 0.4694 - val_loss: 1.5597 - val_accuracy: 0.4917\n",
      "Epoch 17/100\n",
      "17/17 [==============================] - 2s 101ms/step - loss: 1.5075 - accuracy: 0.4824 - val_loss: 1.5211 - val_accuracy: 0.4833\n",
      "Epoch 18/100\n",
      "17/17 [==============================] - 2s 106ms/step - loss: 1.4599 - accuracy: 0.5028 - val_loss: 1.4789 - val_accuracy: 0.4917\n",
      "Epoch 19/100\n",
      "17/17 [==============================] - 2s 107ms/step - loss: 1.4177 - accuracy: 0.5130 - val_loss: 1.4356 - val_accuracy: 0.4833\n",
      "Epoch 20/100\n",
      "17/17 [==============================] - 2s 106ms/step - loss: 1.3712 - accuracy: 0.5204 - val_loss: 1.3967 - val_accuracy: 0.5000\n",
      "Epoch 21/100\n",
      "17/17 [==============================] - 2s 106ms/step - loss: 1.3321 - accuracy: 0.5315 - val_loss: 1.3574 - val_accuracy: 0.5083\n",
      "Epoch 22/100\n",
      "17/17 [==============================] - 2s 106ms/step - loss: 1.2918 - accuracy: 0.5389 - val_loss: 1.3251 - val_accuracy: 0.5167\n",
      "Epoch 23/100\n",
      "17/17 [==============================] - 2s 106ms/step - loss: 1.2602 - accuracy: 0.5537 - val_loss: 1.2910 - val_accuracy: 0.5250\n",
      "Epoch 24/100\n",
      "17/17 [==============================] - 2s 106ms/step - loss: 1.2261 - accuracy: 0.5657 - val_loss: 1.2611 - val_accuracy: 0.5167\n",
      "Epoch 25/100\n",
      "17/17 [==============================] - 2s 106ms/step - loss: 1.1995 - accuracy: 0.5713 - val_loss: 1.2317 - val_accuracy: 0.5333\n",
      "Epoch 26/100\n",
      "17/17 [==============================] - 2s 106ms/step - loss: 1.1699 - accuracy: 0.5852 - val_loss: 1.2067 - val_accuracy: 0.5500\n",
      "Epoch 27/100\n",
      "17/17 [==============================] - 2s 106ms/step - loss: 1.1465 - accuracy: 0.5991 - val_loss: 1.1815 - val_accuracy: 0.5750\n",
      "Epoch 28/100\n",
      "17/17 [==============================] - 2s 106ms/step - loss: 1.1220 - accuracy: 0.6083 - val_loss: 1.1597 - val_accuracy: 0.5917\n",
      "Epoch 29/100\n",
      "17/17 [==============================] - 2s 106ms/step - loss: 1.0998 - accuracy: 0.6167 - val_loss: 1.1372 - val_accuracy: 0.6000\n",
      "Epoch 30/100\n",
      "17/17 [==============================] - 2s 106ms/step - loss: 1.0767 - accuracy: 0.6315 - val_loss: 1.1165 - val_accuracy: 0.6083\n",
      "Epoch 31/100\n",
      "17/17 [==============================] - 2s 111ms/step - loss: 1.0579 - accuracy: 0.6352 - val_loss: 1.0969 - val_accuracy: 0.6083\n",
      "Epoch 32/100\n",
      "17/17 [==============================] - 2s 107ms/step - loss: 1.0394 - accuracy: 0.6417 - val_loss: 1.0805 - val_accuracy: 0.6167\n",
      "Epoch 33/100\n",
      "17/17 [==============================] - 2s 106ms/step - loss: 1.0222 - accuracy: 0.6500 - val_loss: 1.0628 - val_accuracy: 0.6333\n",
      "Epoch 34/100\n",
      "17/17 [==============================] - 2s 107ms/step - loss: 1.0042 - accuracy: 0.6574 - val_loss: 1.0466 - val_accuracy: 0.6333\n",
      "Epoch 35/100\n",
      "17/17 [==============================] - 2s 101ms/step - loss: 0.9886 - accuracy: 0.6602 - val_loss: 1.0314 - val_accuracy: 0.6417\n",
      "Epoch 36/100\n",
      "17/17 [==============================] - 2s 106ms/step - loss: 0.9729 - accuracy: 0.6639 - val_loss: 1.0166 - val_accuracy: 0.6333\n",
      "Epoch 37/100\n",
      "17/17 [==============================] - 2s 106ms/step - loss: 0.9593 - accuracy: 0.6704 - val_loss: 1.0034 - val_accuracy: 0.6333\n",
      "Epoch 38/100\n",
      "17/17 [==============================] - 2s 106ms/step - loss: 0.9447 - accuracy: 0.6787 - val_loss: 0.9894 - val_accuracy: 0.6417\n",
      "Epoch 39/100\n",
      "17/17 [==============================] - 2s 107ms/step - loss: 0.9313 - accuracy: 0.6806 - val_loss: 0.9767 - val_accuracy: 0.6583\n",
      "Epoch 40/100\n",
      "17/17 [==============================] - 2s 106ms/step - loss: 0.9180 - accuracy: 0.6880 - val_loss: 0.9641 - val_accuracy: 0.6500\n",
      "Epoch 41/100\n",
      "17/17 [==============================] - 2s 101ms/step - loss: 0.9061 - accuracy: 0.6870 - val_loss: 0.9521 - val_accuracy: 0.6500\n",
      "Epoch 42/100\n",
      "17/17 [==============================] - 2s 106ms/step - loss: 0.8945 - accuracy: 0.6926 - val_loss: 0.9404 - val_accuracy: 0.6667\n",
      "Epoch 43/100\n",
      "17/17 [==============================] - 2s 106ms/step - loss: 0.8835 - accuracy: 0.7019 - val_loss: 0.9295 - val_accuracy: 0.6667\n",
      "Epoch 44/100\n",
      "17/17 [==============================] - 2s 106ms/step - loss: 0.8717 - accuracy: 0.7074 - val_loss: 0.9191 - val_accuracy: 0.6833\n",
      "Epoch 45/100\n",
      "17/17 [==============================] - 2s 111ms/step - loss: 0.8609 - accuracy: 0.7139 - val_loss: 0.9091 - val_accuracy: 0.6833\n",
      "Epoch 46/100\n",
      "17/17 [==============================] - 2s 106ms/step - loss: 0.8515 - accuracy: 0.7167 - val_loss: 0.8989 - val_accuracy: 0.6917\n",
      "Epoch 47/100\n",
      "17/17 [==============================] - 2s 106ms/step - loss: 0.8410 - accuracy: 0.7222 - val_loss: 0.8898 - val_accuracy: 0.6917\n",
      "Epoch 48/100\n",
      "17/17 [==============================] - 2s 106ms/step - loss: 0.8313 - accuracy: 0.7278 - val_loss: 0.8804 - val_accuracy: 0.6917\n",
      "Epoch 49/100\n",
      "17/17 [==============================] - 2s 105ms/step - loss: 0.8219 - accuracy: 0.7287 - val_loss: 0.8723 - val_accuracy: 0.7000\n",
      "Epoch 50/100\n",
      "17/17 [==============================] - 2s 105ms/step - loss: 0.8139 - accuracy: 0.7370 - val_loss: 0.8637 - val_accuracy: 0.7000\n",
      "Epoch 51/100\n",
      "17/17 [==============================] - 2s 106ms/step - loss: 0.8052 - accuracy: 0.7435 - val_loss: 0.8556 - val_accuracy: 0.7000\n",
      "Epoch 52/100\n",
      "17/17 [==============================] - 2s 101ms/step - loss: 0.7973 - accuracy: 0.7481 - val_loss: 0.8481 - val_accuracy: 0.7083\n",
      "Epoch 53/100\n",
      "17/17 [==============================] - 2s 111ms/step - loss: 0.7890 - accuracy: 0.7528 - val_loss: 0.8407 - val_accuracy: 0.7083\n",
      "Epoch 54/100\n",
      "17/17 [==============================] - 2s 105ms/step - loss: 0.7818 - accuracy: 0.7519 - val_loss: 0.8335 - val_accuracy: 0.7083\n",
      "Epoch 55/100\n",
      "17/17 [==============================] - 2s 106ms/step - loss: 0.7743 - accuracy: 0.7537 - val_loss: 0.8267 - val_accuracy: 0.7167\n",
      "Epoch 56/100\n",
      "17/17 [==============================] - 2s 106ms/step - loss: 0.7672 - accuracy: 0.7583 - val_loss: 0.8196 - val_accuracy: 0.7083\n",
      "Epoch 57/100\n",
      "17/17 [==============================] - 2s 100ms/step - loss: 0.7600 - accuracy: 0.7648 - val_loss: 0.8133 - val_accuracy: 0.7167\n",
      "Epoch 58/100\n",
      "17/17 [==============================] - 2s 101ms/step - loss: 0.7532 - accuracy: 0.7657 - val_loss: 0.8069 - val_accuracy: 0.7083\n",
      "Epoch 59/100\n",
      "17/17 [==============================] - 2s 101ms/step - loss: 0.7465 - accuracy: 0.7676 - val_loss: 0.8001 - val_accuracy: 0.7000\n",
      "Epoch 60/100\n",
      "17/17 [==============================] - 2s 102ms/step - loss: 0.7402 - accuracy: 0.7676 - val_loss: 0.7947 - val_accuracy: 0.7083\n",
      "Epoch 61/100\n",
      "17/17 [==============================] - 2s 107ms/step - loss: 0.7337 - accuracy: 0.7685 - val_loss: 0.7884 - val_accuracy: 0.7083\n",
      "Epoch 62/100\n",
      "17/17 [==============================] - 2s 103ms/step - loss: 0.7277 - accuracy: 0.7685 - val_loss: 0.7832 - val_accuracy: 0.7083\n",
      "Epoch 63/100\n",
      "17/17 [==============================] - 2s 100ms/step - loss: 0.7216 - accuracy: 0.7685 - val_loss: 0.7772 - val_accuracy: 0.7167\n",
      "Epoch 64/100\n",
      "17/17 [==============================] - 2s 100ms/step - loss: 0.7152 - accuracy: 0.7713 - val_loss: 0.7727 - val_accuracy: 0.7250\n",
      "Epoch 65/100\n",
      "17/17 [==============================] - 2s 106ms/step - loss: 0.7101 - accuracy: 0.7694 - val_loss: 0.7660 - val_accuracy: 0.7250\n",
      "Epoch 66/100\n",
      "17/17 [==============================] - 2s 105ms/step - loss: 0.7042 - accuracy: 0.7704 - val_loss: 0.7614 - val_accuracy: 0.7250\n",
      "Epoch 67/100\n",
      "17/17 [==============================] - 2s 106ms/step - loss: 0.6984 - accuracy: 0.7722 - val_loss: 0.7553 - val_accuracy: 0.7333\n",
      "Epoch 68/100\n",
      "17/17 [==============================] - 2s 106ms/step - loss: 0.6934 - accuracy: 0.7731 - val_loss: 0.7512 - val_accuracy: 0.7333\n",
      "Epoch 69/100\n",
      "17/17 [==============================] - 2s 106ms/step - loss: 0.6876 - accuracy: 0.7731 - val_loss: 0.7457 - val_accuracy: 0.7333\n",
      "Epoch 70/100\n",
      "17/17 [==============================] - 2s 107ms/step - loss: 0.6828 - accuracy: 0.7750 - val_loss: 0.7419 - val_accuracy: 0.7333\n",
      "Epoch 71/100\n",
      "17/17 [==============================] - 2s 106ms/step - loss: 0.6774 - accuracy: 0.7778 - val_loss: 0.7364 - val_accuracy: 0.7333\n",
      "Epoch 72/100\n",
      "17/17 [==============================] - 2s 106ms/step - loss: 0.6727 - accuracy: 0.7759 - val_loss: 0.7334 - val_accuracy: 0.7333\n",
      "Epoch 73/100\n",
      "17/17 [==============================] - 2s 106ms/step - loss: 0.6687 - accuracy: 0.7750 - val_loss: 0.7282 - val_accuracy: 0.7333\n",
      "Epoch 74/100\n",
      "17/17 [==============================] - 2s 106ms/step - loss: 0.6636 - accuracy: 0.7796 - val_loss: 0.7246 - val_accuracy: 0.7417\n",
      "Epoch 75/100\n",
      "17/17 [==============================] - 2s 106ms/step - loss: 0.6592 - accuracy: 0.7769 - val_loss: 0.7203 - val_accuracy: 0.7417\n",
      "Epoch 76/100\n",
      "17/17 [==============================] - 2s 106ms/step - loss: 0.6550 - accuracy: 0.7769 - val_loss: 0.7165 - val_accuracy: 0.7417\n",
      "Epoch 77/100\n",
      "17/17 [==============================] - 2s 100ms/step - loss: 0.6499 - accuracy: 0.7806 - val_loss: 0.7127 - val_accuracy: 0.7417\n",
      "Epoch 78/100\n",
      "17/17 [==============================] - 2s 106ms/step - loss: 0.6462 - accuracy: 0.7833 - val_loss: 0.7086 - val_accuracy: 0.7417\n",
      "Epoch 79/100\n",
      "17/17 [==============================] - 2s 106ms/step - loss: 0.6415 - accuracy: 0.7843 - val_loss: 0.7046 - val_accuracy: 0.7417\n",
      "Epoch 80/100\n",
      "17/17 [==============================] - 2s 106ms/step - loss: 0.6379 - accuracy: 0.7861 - val_loss: 0.7006 - val_accuracy: 0.7417\n",
      "Epoch 81/100\n",
      "17/17 [==============================] - 2s 101ms/step - loss: 0.6334 - accuracy: 0.7880 - val_loss: 0.6970 - val_accuracy: 0.7417\n",
      "Epoch 82/100\n",
      "17/17 [==============================] - 2s 106ms/step - loss: 0.6295 - accuracy: 0.7889 - val_loss: 0.6938 - val_accuracy: 0.7417\n",
      "Epoch 83/100\n",
      "17/17 [==============================] - 2s 101ms/step - loss: 0.6256 - accuracy: 0.7889 - val_loss: 0.6905 - val_accuracy: 0.7417\n",
      "Epoch 84/100\n",
      "17/17 [==============================] - 2s 107ms/step - loss: 0.6224 - accuracy: 0.7898 - val_loss: 0.6866 - val_accuracy: 0.7417\n",
      "Epoch 85/100\n",
      "17/17 [==============================] - 2s 106ms/step - loss: 0.6180 - accuracy: 0.7935 - val_loss: 0.6838 - val_accuracy: 0.7417\n",
      "Epoch 86/100\n",
      "17/17 [==============================] - 2s 102ms/step - loss: 0.6140 - accuracy: 0.7944 - val_loss: 0.6812 - val_accuracy: 0.7417\n",
      "Epoch 87/100\n",
      "17/17 [==============================] - 2s 106ms/step - loss: 0.6105 - accuracy: 0.7944 - val_loss: 0.6779 - val_accuracy: 0.7417\n",
      "Epoch 88/100\n",
      "17/17 [==============================] - 2s 106ms/step - loss: 0.6069 - accuracy: 0.7963 - val_loss: 0.6745 - val_accuracy: 0.7417\n",
      "Epoch 89/100\n",
      "17/17 [==============================] - 2s 106ms/step - loss: 0.6029 - accuracy: 0.7981 - val_loss: 0.6716 - val_accuracy: 0.7500\n",
      "Epoch 90/100\n",
      "17/17 [==============================] - 2s 106ms/step - loss: 0.5993 - accuracy: 0.8019 - val_loss: 0.6686 - val_accuracy: 0.7500\n",
      "Epoch 91/100\n",
      "17/17 [==============================] - 2s 106ms/step - loss: 0.5957 - accuracy: 0.8019 - val_loss: 0.6654 - val_accuracy: 0.7500\n",
      "Epoch 92/100\n",
      "17/17 [==============================] - 2s 106ms/step - loss: 0.5922 - accuracy: 0.8028 - val_loss: 0.6622 - val_accuracy: 0.7500\n",
      "Epoch 93/100\n",
      "17/17 [==============================] - 2s 102ms/step - loss: 0.5886 - accuracy: 0.8028 - val_loss: 0.6592 - val_accuracy: 0.7500\n",
      "Epoch 94/100\n",
      "17/17 [==============================] - 2s 106ms/step - loss: 0.5853 - accuracy: 0.8037 - val_loss: 0.6560 - val_accuracy: 0.7500\n",
      "Epoch 95/100\n",
      "17/17 [==============================] - 2s 106ms/step - loss: 0.5819 - accuracy: 0.8037 - val_loss: 0.6526 - val_accuracy: 0.7500\n",
      "Epoch 96/100\n",
      "17/17 [==============================] - 2s 106ms/step - loss: 0.5779 - accuracy: 0.8056 - val_loss: 0.6501 - val_accuracy: 0.7500\n",
      "Epoch 97/100\n",
      "17/17 [==============================] - 2s 106ms/step - loss: 0.5747 - accuracy: 0.8074 - val_loss: 0.6474 - val_accuracy: 0.7500\n",
      "Epoch 98/100\n",
      "17/17 [==============================] - 2s 106ms/step - loss: 0.5713 - accuracy: 0.8065 - val_loss: 0.6446 - val_accuracy: 0.7500\n",
      "Epoch 99/100\n",
      "17/17 [==============================] - 2s 105ms/step - loss: 0.5679 - accuracy: 0.8083 - val_loss: 0.6411 - val_accuracy: 0.7583\n",
      "Epoch 100/100\n",
      "17/17 [==============================] - 2s 106ms/step - loss: 0.5644 - accuracy: 0.8102 - val_loss: 0.6385 - val_accuracy: 0.7583\n"
     ]
    }
   ],
   "source": [
    "train_dataset = tf.data.Dataset.from_tensor_slices((X_train, Y_train)).batch(64)\n",
    "test_dataset = tf.data.Dataset.from_tensor_slices((X_test, Y_test)).batch(64)\n",
    "history = conv_model.fit(train_dataset, epochs=100, validation_data=test_dataset)"
   ]
  },
  {
   "cell_type": "markdown",
   "metadata": {},
   "source": [
    "<a name='5'></a>\n",
    "## 5 - History Object \n",
    "\n",
    "The history object is an output of the `.fit()` operation, and provides a record of all the loss and metric values in memory. It's stored as a dictionary that you can retrieve at `history.history`: "
   ]
  },
  {
   "cell_type": "code",
   "execution_count": 17,
   "metadata": {},
   "outputs": [
    {
     "data": {
      "text/plain": [
       "{'loss': [1.835739254951477,\n",
       "  1.7897289991378784,\n",
       "  1.7840200662612915,\n",
       "  1.7791893482208252,\n",
       "  1.7740771770477295,\n",
       "  1.7673403024673462,\n",
       "  1.758638620376587,\n",
       "  1.74986732006073,\n",
       "  1.73695969581604,\n",
       "  1.7223913669586182,\n",
       "  1.7042385339736938,\n",
       "  1.6828755140304565,\n",
       "  1.6577460765838623,\n",
       "  1.628283143043518,\n",
       "  1.596386432647705,\n",
       "  1.5534716844558716,\n",
       "  1.507501482963562,\n",
       "  1.4598984718322754,\n",
       "  1.4177298545837402,\n",
       "  1.3712167739868164,\n",
       "  1.332130789756775,\n",
       "  1.2918294668197632,\n",
       "  1.2602065801620483,\n",
       "  1.2261148691177368,\n",
       "  1.1994705200195312,\n",
       "  1.1698683500289917,\n",
       "  1.1464835405349731,\n",
       "  1.1220494508743286,\n",
       "  1.099768877029419,\n",
       "  1.076682448387146,\n",
       "  1.0578500032424927,\n",
       "  1.0394214391708374,\n",
       "  1.0222207307815552,\n",
       "  1.0041908025741577,\n",
       "  0.9885860681533813,\n",
       "  0.972898006439209,\n",
       "  0.9593310356140137,\n",
       "  0.9447149038314819,\n",
       "  0.9312618970870972,\n",
       "  0.9180228114128113,\n",
       "  0.9061259031295776,\n",
       "  0.8944859504699707,\n",
       "  0.8835185170173645,\n",
       "  0.8717274069786072,\n",
       "  0.8608502745628357,\n",
       "  0.8515260815620422,\n",
       "  0.8409655094146729,\n",
       "  0.8312730193138123,\n",
       "  0.8218510150909424,\n",
       "  0.8139075636863708,\n",
       "  0.8051790595054626,\n",
       "  0.7972931861877441,\n",
       "  0.7889602780342102,\n",
       "  0.7817904353141785,\n",
       "  0.7742568254470825,\n",
       "  0.7672266364097595,\n",
       "  0.7600277066230774,\n",
       "  0.7532069683074951,\n",
       "  0.746496319770813,\n",
       "  0.7402303814888,\n",
       "  0.733652651309967,\n",
       "  0.727655291557312,\n",
       "  0.721579372882843,\n",
       "  0.7152312397956848,\n",
       "  0.7100681662559509,\n",
       "  0.7042458653450012,\n",
       "  0.698438286781311,\n",
       "  0.6934493184089661,\n",
       "  0.687623918056488,\n",
       "  0.6828187108039856,\n",
       "  0.6773672699928284,\n",
       "  0.6726915240287781,\n",
       "  0.6686514019966125,\n",
       "  0.6635779738426208,\n",
       "  0.6592268943786621,\n",
       "  0.655011773109436,\n",
       "  0.6499052047729492,\n",
       "  0.6461697816848755,\n",
       "  0.6415037512779236,\n",
       "  0.6379137635231018,\n",
       "  0.6334495544433594,\n",
       "  0.6295285224914551,\n",
       "  0.6256110072135925,\n",
       "  0.6224366426467896,\n",
       "  0.6179672479629517,\n",
       "  0.6139510273933411,\n",
       "  0.6104629039764404,\n",
       "  0.6068534255027771,\n",
       "  0.6029012203216553,\n",
       "  0.5992583632469177,\n",
       "  0.5957319736480713,\n",
       "  0.5922372341156006,\n",
       "  0.5886089205741882,\n",
       "  0.5853400230407715,\n",
       "  0.581904411315918,\n",
       "  0.5779480338096619,\n",
       "  0.5746855139732361,\n",
       "  0.5712935924530029,\n",
       "  0.5679228901863098,\n",
       "  0.5643833875656128],\n",
       " 'accuracy': [0.15833333134651184,\n",
       "  0.16851851344108582,\n",
       "  0.19907407462596893,\n",
       "  0.22962963581085205,\n",
       "  0.2629629671573639,\n",
       "  0.29814815521240234,\n",
       "  0.31388887763023376,\n",
       "  0.34166666865348816,\n",
       "  0.3879629671573639,\n",
       "  0.4027777910232544,\n",
       "  0.42129629850387573,\n",
       "  0.4314814805984497,\n",
       "  0.4407407343387604,\n",
       "  0.45370370149612427,\n",
       "  0.4472222328186035,\n",
       "  0.4694444537162781,\n",
       "  0.48240742087364197,\n",
       "  0.5027777552604675,\n",
       "  0.5129629373550415,\n",
       "  0.520370364189148,\n",
       "  0.5314815044403076,\n",
       "  0.5388888716697693,\n",
       "  0.5537037253379822,\n",
       "  0.5657407641410828,\n",
       "  0.5712962746620178,\n",
       "  0.585185170173645,\n",
       "  0.5990740656852722,\n",
       "  0.6083333492279053,\n",
       "  0.6166666746139526,\n",
       "  0.6314814686775208,\n",
       "  0.635185182094574,\n",
       "  0.6416666507720947,\n",
       "  0.6499999761581421,\n",
       "  0.6574074029922485,\n",
       "  0.6601851582527161,\n",
       "  0.6638888716697693,\n",
       "  0.6703703999519348,\n",
       "  0.6787037253379822,\n",
       "  0.6805555820465088,\n",
       "  0.6879629492759705,\n",
       "  0.6870370507240295,\n",
       "  0.6925926208496094,\n",
       "  0.7018518447875977,\n",
       "  0.7074074149131775,\n",
       "  0.7138888835906982,\n",
       "  0.7166666388511658,\n",
       "  0.7222222089767456,\n",
       "  0.7277777791023254,\n",
       "  0.7287036776542664,\n",
       "  0.7370370626449585,\n",
       "  0.7435185313224792,\n",
       "  0.7481481432914734,\n",
       "  0.7527777552604675,\n",
       "  0.7518518567085266,\n",
       "  0.7537037134170532,\n",
       "  0.7583333253860474,\n",
       "  0.7648147940635681,\n",
       "  0.7657407522201538,\n",
       "  0.7675926089286804,\n",
       "  0.7675926089286804,\n",
       "  0.7685185074806213,\n",
       "  0.7685185074806213,\n",
       "  0.7685185074806213,\n",
       "  0.7712963223457336,\n",
       "  0.769444465637207,\n",
       "  0.770370364189148,\n",
       "  0.7722222208976746,\n",
       "  0.7731481194496155,\n",
       "  0.7731481194496155,\n",
       "  0.7749999761581421,\n",
       "  0.7777777910232544,\n",
       "  0.7759259343147278,\n",
       "  0.7749999761581421,\n",
       "  0.779629647731781,\n",
       "  0.7768518328666687,\n",
       "  0.7768518328666687,\n",
       "  0.7805555462837219,\n",
       "  0.7833333611488342,\n",
       "  0.7842592597007751,\n",
       "  0.7861111164093018,\n",
       "  0.7879629731178284,\n",
       "  0.7888888716697693,\n",
       "  0.7888888716697693,\n",
       "  0.789814829826355,\n",
       "  0.7935185432434082,\n",
       "  0.7944444417953491,\n",
       "  0.7944444417953491,\n",
       "  0.7962962985038757,\n",
       "  0.7981481552124023,\n",
       "  0.8018518686294556,\n",
       "  0.8018518686294556,\n",
       "  0.8027777671813965,\n",
       "  0.8027777671813965,\n",
       "  0.8037037253379822,\n",
       "  0.8037037253379822,\n",
       "  0.8055555820465088,\n",
       "  0.8074073791503906,\n",
       "  0.8064814805984497,\n",
       "  0.8083333373069763,\n",
       "  0.8101851940155029],\n",
       " 'val_loss': [1.794843077659607,\n",
       "  1.7860965728759766,\n",
       "  1.7818188667297363,\n",
       "  1.7766337394714355,\n",
       "  1.770739197731018,\n",
       "  1.7643253803253174,\n",
       "  1.75664484500885,\n",
       "  1.7469837665557861,\n",
       "  1.7365251779556274,\n",
       "  1.7215603590011597,\n",
       "  1.7050740718841553,\n",
       "  1.684767246246338,\n",
       "  1.6612427234649658,\n",
       "  1.6340466737747192,\n",
       "  1.6016795635223389,\n",
       "  1.5596699714660645,\n",
       "  1.5210833549499512,\n",
       "  1.4788964986801147,\n",
       "  1.43557608127594,\n",
       "  1.3966991901397705,\n",
       "  1.3573788404464722,\n",
       "  1.3251107931137085,\n",
       "  1.2909832000732422,\n",
       "  1.2610982656478882,\n",
       "  1.231684923171997,\n",
       "  1.2066783905029297,\n",
       "  1.1814608573913574,\n",
       "  1.159739375114441,\n",
       "  1.1371937990188599,\n",
       "  1.1165364980697632,\n",
       "  1.0969232320785522,\n",
       "  1.0805089473724365,\n",
       "  1.0628483295440674,\n",
       "  1.046594500541687,\n",
       "  1.031418800354004,\n",
       "  1.0166019201278687,\n",
       "  1.0034128427505493,\n",
       "  0.9893501400947571,\n",
       "  0.9766771793365479,\n",
       "  0.9640710353851318,\n",
       "  0.9520569443702698,\n",
       "  0.9404159188270569,\n",
       "  0.9294707179069519,\n",
       "  0.9190831780433655,\n",
       "  0.9090975522994995,\n",
       "  0.8989050388336182,\n",
       "  0.8897706270217896,\n",
       "  0.8803679347038269,\n",
       "  0.8723421096801758,\n",
       "  0.8636725544929504,\n",
       "  0.8555900454521179,\n",
       "  0.8481455445289612,\n",
       "  0.8406851887702942,\n",
       "  0.833465576171875,\n",
       "  0.8266516327857971,\n",
       "  0.8195580840110779,\n",
       "  0.8132835626602173,\n",
       "  0.8068836331367493,\n",
       "  0.8000922799110413,\n",
       "  0.7947266697883606,\n",
       "  0.7884124517440796,\n",
       "  0.7831552028656006,\n",
       "  0.7771619558334351,\n",
       "  0.7726529240608215,\n",
       "  0.7659619450569153,\n",
       "  0.7614047527313232,\n",
       "  0.7553322911262512,\n",
       "  0.7511997222900391,\n",
       "  0.7457225918769836,\n",
       "  0.7418718934059143,\n",
       "  0.7364424467086792,\n",
       "  0.7333530187606812,\n",
       "  0.7281991243362427,\n",
       "  0.7246446013450623,\n",
       "  0.7202666997909546,\n",
       "  0.7165467739105225,\n",
       "  0.7126893997192383,\n",
       "  0.7086064219474792,\n",
       "  0.7046277523040771,\n",
       "  0.7006053924560547,\n",
       "  0.697005569934845,\n",
       "  0.6937981843948364,\n",
       "  0.690506637096405,\n",
       "  0.6866235733032227,\n",
       "  0.6838122010231018,\n",
       "  0.6811559796333313,\n",
       "  0.6778512597084045,\n",
       "  0.6744594573974609,\n",
       "  0.6715710759162903,\n",
       "  0.6686084866523743,\n",
       "  0.6654144525527954,\n",
       "  0.6621851325035095,\n",
       "  0.6592095494270325,\n",
       "  0.656005322933197,\n",
       "  0.6526280045509338,\n",
       "  0.6501421332359314,\n",
       "  0.6474065780639648,\n",
       "  0.6446039080619812,\n",
       "  0.6410782933235168,\n",
       "  0.6384975910186768],\n",
       " 'val_accuracy': [0.1666666716337204,\n",
       "  0.20000000298023224,\n",
       "  0.19166666269302368,\n",
       "  0.25,\n",
       "  0.34166666865348816,\n",
       "  0.3583333194255829,\n",
       "  0.3583333194255829,\n",
       "  0.4000000059604645,\n",
       "  0.4333333373069763,\n",
       "  0.4583333432674408,\n",
       "  0.4416666626930237,\n",
       "  0.4333333373069763,\n",
       "  0.42500001192092896,\n",
       "  0.4583333432674408,\n",
       "  0.44999998807907104,\n",
       "  0.49166667461395264,\n",
       "  0.4833333194255829,\n",
       "  0.49166667461395264,\n",
       "  0.4833333194255829,\n",
       "  0.5,\n",
       "  0.5083333253860474,\n",
       "  0.5166666507720947,\n",
       "  0.5249999761581421,\n",
       "  0.5166666507720947,\n",
       "  0.5333333611488342,\n",
       "  0.550000011920929,\n",
       "  0.574999988079071,\n",
       "  0.5916666388511658,\n",
       "  0.6000000238418579,\n",
       "  0.6083333492279053,\n",
       "  0.6083333492279053,\n",
       "  0.6166666746139526,\n",
       "  0.6333333253860474,\n",
       "  0.6333333253860474,\n",
       "  0.6416666507720947,\n",
       "  0.6333333253860474,\n",
       "  0.6333333253860474,\n",
       "  0.6416666507720947,\n",
       "  0.6583333611488342,\n",
       "  0.6499999761581421,\n",
       "  0.6499999761581421,\n",
       "  0.6666666865348816,\n",
       "  0.6666666865348816,\n",
       "  0.6833333373069763,\n",
       "  0.6833333373069763,\n",
       "  0.6916666626930237,\n",
       "  0.6916666626930237,\n",
       "  0.6916666626930237,\n",
       "  0.699999988079071,\n",
       "  0.699999988079071,\n",
       "  0.699999988079071,\n",
       "  0.7083333134651184,\n",
       "  0.7083333134651184,\n",
       "  0.7083333134651184,\n",
       "  0.7166666388511658,\n",
       "  0.7083333134651184,\n",
       "  0.7166666388511658,\n",
       "  0.7083333134651184,\n",
       "  0.699999988079071,\n",
       "  0.7083333134651184,\n",
       "  0.7083333134651184,\n",
       "  0.7083333134651184,\n",
       "  0.7166666388511658,\n",
       "  0.7250000238418579,\n",
       "  0.7250000238418579,\n",
       "  0.7250000238418579,\n",
       "  0.7333333492279053,\n",
       "  0.7333333492279053,\n",
       "  0.7333333492279053,\n",
       "  0.7333333492279053,\n",
       "  0.7333333492279053,\n",
       "  0.7333333492279053,\n",
       "  0.7333333492279053,\n",
       "  0.7416666746139526,\n",
       "  0.7416666746139526,\n",
       "  0.7416666746139526,\n",
       "  0.7416666746139526,\n",
       "  0.7416666746139526,\n",
       "  0.7416666746139526,\n",
       "  0.7416666746139526,\n",
       "  0.7416666746139526,\n",
       "  0.7416666746139526,\n",
       "  0.7416666746139526,\n",
       "  0.7416666746139526,\n",
       "  0.7416666746139526,\n",
       "  0.7416666746139526,\n",
       "  0.7416666746139526,\n",
       "  0.7416666746139526,\n",
       "  0.75,\n",
       "  0.75,\n",
       "  0.75,\n",
       "  0.75,\n",
       "  0.75,\n",
       "  0.75,\n",
       "  0.75,\n",
       "  0.75,\n",
       "  0.75,\n",
       "  0.75,\n",
       "  0.7583333253860474,\n",
       "  0.7583333253860474]}"
      ]
     },
     "execution_count": 17,
     "metadata": {},
     "output_type": "execute_result"
    }
   ],
   "source": [
    "history.history"
   ]
  },
  {
   "cell_type": "markdown",
   "metadata": {},
   "source": [
    "Now visualize the loss over time using `history.history`: "
   ]
  },
  {
   "cell_type": "code",
   "execution_count": 18,
   "metadata": {},
   "outputs": [
    {
     "data": {
      "text/plain": [
       "[Text(0, 0.5, 'Accuracy'), Text(0.5, 0, 'Epoch')]"
      ]
     },
     "execution_count": 18,
     "metadata": {},
     "output_type": "execute_result"
    },
    {
     "data": {
      "image/png": "[encoded data removed]",
      "text/plain": [
       "<Figure size 864x576 with 1 Axes>"
      ]
     },
     "metadata": {
      "needs_background": "light"
     },
     "output_type": "display_data"
    },
    {
     "data": {
      "image/png": "[encoded data removed]",
      "text/plain": [
       "<Figure size 864x576 with 1 Axes>"
      ]
     },
     "metadata": {
      "needs_background": "light"
     },
     "output_type": "display_data"
    }
   ],
   "source": [
    "# The history.history[\"loss\"] entry is a dictionary with as many values as epochs that the\n",
    "# model was trained on. \n",
    "df_loss_acc = pd.DataFrame(history.history)\n",
    "df_loss= df_loss_acc[['loss','val_loss']]\n",
    "df_loss.rename(columns={'loss':'train','val_loss':'validation'},inplace=True)\n",
    "df_acc= df_loss_acc[['accuracy','val_accuracy']]\n",
    "df_acc.rename(columns={'accuracy':'train','val_accuracy':'validation'},inplace=True)\n",
    "df_loss.plot(title='Model loss',figsize=(12,8)).set(xlabel='Epoch',ylabel='Loss')\n",
    "df_acc.plot(title='Model Accuracy',figsize=(12,8)).set(xlabel='Epoch',ylabel='Accuracy')"
   ]
  },
  {
   "cell_type": "markdown",
   "metadata": {},
   "source": [
    "**Congratulations**! You've finished the assignment and built two models: One that recognizes  smiles, and another that recognizes SIGN language with almost 80% accuracy on the test set. In addition to that, you now also understand the applications of two Keras APIs: Sequential and Functional. Nicely done! \n",
    "\n",
    "By now, you know a bit about how the Functional API works and may have glimpsed the possibilities. In your next assignment, you'll really get a feel for its power when you get the opportunity to build a very deep ConvNet, using ResNets! "
   ]
  },
  {
   "cell_type": "markdown",
   "metadata": {},
   "source": [
    "<a name='6'></a>\n",
    "## 6 - Bibliography\n",
    "\n",
    "You're always encouraged to read the official documentation. To that end, you can find the docs for the Sequential and Functional APIs here: \n",
    "\n",
    "https://www.tensorflow.org/guide/keras/sequential_model\n",
    "\n",
    "https://www.tensorflow.org/guide/keras/functional"
   ]
  }
 ],
 "metadata": {
  "coursera": {
   "course_slug": "convolutional-neural-networks",
   "graded_item_id": "bwbJV",
   "launcher_item_id": "0TkXB"
  },
  "kernelspec": {
   "display_name": "Python 3",
   "language": "python",
   "name": "python3"
  },
  "language_info": {
   "codemirror_mode": {
    "name": "ipython",
    "version": 3
   },
   "file_extension": ".py",
   "mimetype": "text/x-python",
   "name": "python",
   "nbconvert_exporter": "python",
   "pygments_lexer": "ipython3",
   "version": "3.7.6"
  }
 },
 "nbformat": 4,
 "nbformat_minor": 2
}
